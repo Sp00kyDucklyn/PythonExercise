{
  "nbformat": 4,
  "nbformat_minor": 0,
  "metadata": {
    "colab": {
      "provenance": [],
      "authorship_tag": "ABX9TyPfk202meG/lumVAYnX0KX2",
      "include_colab_link": true
    },
    "kernelspec": {
      "name": "python3",
      "display_name": "Python 3"
    },
    "language_info": {
      "name": "python"
    }
  },
  "cells": [
    {
      "cell_type": "markdown",
      "metadata": {
        "id": "view-in-github",
        "colab_type": "text"
      },
      "source": [
        "<a href=\"https://colab.research.google.com/github/Sp00kyDucklyn/PythonExercise/blob/main/DS_C2_SC2_Carmen.ipynb\" target=\"_parent\"><img src=\"https://colab.research.google.com/assets/colab-badge.svg\" alt=\"Open In Colab\"/></a>"
      ]
    },
    {
      "cell_type": "code",
      "source": [
        "import os\n",
        "\n",
        "# ============================================\n",
        "# a. Extraer la información del archivo\n",
        "# ============================================\n",
        "from google.colab import drive\n",
        "import pandas as pd\n",
        "import numpy as np\n",
        "\n",
        "drive.mount('/content/drive')\n",
        "\n",
        "# Leer el archivo\n",
        "ruta = '/content/drive/MyDrive/reto4/country_vaccinations.csv'\n",
        "dataFrame = pd.read_csv(ruta)"
      ],
      "metadata": {
        "id": "0ClER3nW40Fr",
        "colab": {
          "base_uri": "https://localhost:8080/"
        },
        "outputId": "20b9a24c-02ec-4e4b-a62c-9205c62ec5ee"
      },
      "execution_count": 1,
      "outputs": [
        {
          "output_type": "stream",
          "name": "stdout",
          "text": [
            "Mounted at /content/drive\n"
          ]
        }
      ]
    },
    {
      "cell_type": "code",
      "execution_count": 2,
      "metadata": {
        "colab": {
          "base_uri": "https://localhost:8080/"
        },
        "id": "W_KGbjVi38UE",
        "outputId": "05075d15-5b64-4ee7-a41c-a7512b8c5e3e"
      },
      "outputs": [
        {
          "output_type": "stream",
          "name": "stdout",
          "text": [
            "<class 'pandas.core.frame.DataFrame'>\n",
            "RangeIndex: 86512 entries, 0 to 86511\n",
            "Data columns (total 15 columns):\n",
            " #   Column                               Non-Null Count  Dtype         \n",
            "---  ------                               --------------  -----         \n",
            " 0   country                              86512 non-null  object        \n",
            " 1   iso_code                             86512 non-null  object        \n",
            " 2   date                                 86512 non-null  datetime64[ns]\n",
            " 3   total_vaccinations                   43607 non-null  float64       \n",
            " 4   people_vaccinated                    41294 non-null  float64       \n",
            " 5   people_fully_vaccinated              38802 non-null  float64       \n",
            " 6   daily_vaccinations_raw               35362 non-null  float64       \n",
            " 7   daily_vaccinations                   86213 non-null  float64       \n",
            " 8   total_vaccinations_per_hundred       43607 non-null  float64       \n",
            " 9   people_vaccinated_per_hundred        41294 non-null  float64       \n",
            " 10  people_fully_vaccinated_per_hundred  38802 non-null  float64       \n",
            " 11  daily_vaccinations_per_million       86213 non-null  float64       \n",
            " 12  vaccines                             86512 non-null  object        \n",
            " 13  source_name                          86512 non-null  object        \n",
            " 14  source_website                       86512 non-null  object        \n",
            "dtypes: datetime64[ns](1), float64(9), object(5)\n",
            "memory usage: 9.9+ MB\n"
          ]
        }
      ],
      "source": [
        "# ============================================\n",
        "# b. Mostrar estructura y tipos de datos\n",
        "# ============================================\n",
        "dataFrame['date'] = pd.to_datetime(dataFrame['date'])\n",
        "dataFrame.info()\n"
      ]
    },
    {
      "cell_type": "code",
      "source": [
        "# ============================================\n",
        "# c. Cantidad de vacunas aplicadas de cada compañía\n",
        "# (agrupado por columna \"vaccines\")\n",
        "# ============================================\n",
        "vacunas_por_compania = dataFrame.groupby('vaccines')['total_vaccinations'].sum().reset_index()\n",
        "print(vacunas_por_compania)\n"
      ],
      "metadata": {
        "colab": {
          "base_uri": "https://localhost:8080/"
        },
        "id": "6ql4dXvMQJMS",
        "outputId": "4ff1dae0-2e85-40a7-92f8-a59cbcf73270"
      },
      "execution_count": 3,
      "outputs": [
        {
          "output_type": "stream",
          "name": "stdout",
          "text": [
            "                                             vaccines  total_vaccinations\n",
            "0   Abdala, Johnson&Johnson, Oxford/AstraZeneca, P...        1.784348e+08\n",
            "1   Abdala, Moderna, Oxford/AstraZeneca, Pfizer/Bi...        1.791450e+10\n",
            "2   Abdala, Sinopharm/Beijing, Sinovac, Soberana02...        4.228568e+08\n",
            "3                   Abdala, Soberana Plus, Soberana02        6.405166e+09\n",
            "4   COVIran Barekat, Covaxin, FAKHRAVAC, Oxford/As...        1.069480e+10\n",
            "..                                                ...                 ...\n",
            "79                 Pfizer/BioNTech, Sinovac, Turkovac        3.392310e+10\n",
            "80                         Pfizer/BioNTech, Sputnik V        3.863380e+06\n",
            "81               QazVac, Sinopharm/Beijing, Sputnik V        3.585429e+09\n",
            "82                                  Sinopharm/Beijing        3.080671e+07\n",
            "83                       Sinopharm/Beijing, Sputnik V        6.451243e+08\n",
            "\n",
            "[84 rows x 2 columns]\n"
          ]
        }
      ]
    },
    {
      "cell_type": "code",
      "source": [
        "# ============================================\n",
        "# d. Cantidad total de vacunas aplicadas en todo el mundo\n",
        "# ============================================\n",
        "total_mundial = dataFrame['total_vaccinations'].sum()\n",
        "print(\"Vacunas aplicadas en todo el mundo:\", total_mundial)"
      ],
      "metadata": {
        "colab": {
          "base_uri": "https://localhost:8080/"
        },
        "id": "M53d7wAxVgru",
        "outputId": "2927d902-cae5-472a-a6c1-d81d6ecae766"
      },
      "execution_count": 4,
      "outputs": [
        {
          "output_type": "stream",
          "name": "stdout",
          "text": [
            "Vacunas aplicadas en todo el mundo: 2002854013761.0\n"
          ]
        }
      ]
    },
    {
      "cell_type": "code",
      "source": [
        "# ============================================\n",
        "# e. Promedio de vacunas aplicadas por país\n",
        "# ============================================\n",
        "promedio_por_pais = dataFrame.groupby('country')['total_vaccinations'].mean().reset_index()\n",
        "print(promedio_por_pais.head())"
      ],
      "metadata": {
        "colab": {
          "base_uri": "https://localhost:8080/"
        },
        "id": "PUBZMim_BVFM",
        "outputId": "d66ec6fa-bb2c-41fa-96cc-02fbff67e13c"
      },
      "execution_count": 5,
      "outputs": [
        {
          "output_type": "stream",
          "name": "stdout",
          "text": [
            "       country  total_vaccinations\n",
            "0  Afghanistan        2.566118e+06\n",
            "1      Albania        1.191695e+06\n",
            "2      Algeria        9.956086e+06\n",
            "3      Andorra        5.827721e+04\n",
            "4       Angola        6.074066e+06\n"
          ]
        }
      ]
    },
    {
      "cell_type": "code",
      "source": [
        "# ============================================\n",
        "# f. Vacunas aplicadas el 29/01/21 en todo el mundo\n",
        "# ============================================\n",
        "vacunas_29ene = dataFrame[dataFrame['date'] == '2021-01-29']['daily_vaccinations'].sum()\n",
        "print(\"Vacunas aplicadas el 29/01/21:\", vacunas_29ene)"
      ],
      "metadata": {
        "colab": {
          "base_uri": "https://localhost:8080/"
        },
        "id": "NGfFsHoSBXt2",
        "outputId": "af1d6656-0268-4651-81b8-8fb26892b236"
      },
      "execution_count": 6,
      "outputs": [
        {
          "output_type": "stream",
          "name": "stdout",
          "text": [
            "Vacunas aplicadas el 29/01/21: 4884052.0\n"
          ]
        }
      ]
    },
    {
      "cell_type": "code",
      "source": [
        "# ============================================\n",
        "# g. DataFrame conDiferencias (diferencia entre columnas diarias)\n",
        "# ============================================\n",
        "conDiferencias = dataFrame.copy()\n",
        "conDiferencias['diferencias'] = conDiferencias['daily_vaccinations'] - conDiferencias['daily_vaccinations_raw']\n",
        "print(conDiferencias[['country', 'date', 'diferencias']].head())"
      ],
      "metadata": {
        "colab": {
          "base_uri": "https://localhost:8080/"
        },
        "id": "5A4UxUFYBa58",
        "outputId": "0faec078-ec61-4931-baed-be5935d21cdc"
      },
      "execution_count": 7,
      "outputs": [
        {
          "output_type": "stream",
          "name": "stdout",
          "text": [
            "       country       date  diferencias\n",
            "0  Afghanistan 2021-02-22          NaN\n",
            "1  Afghanistan 2021-02-23          NaN\n",
            "2  Afghanistan 2021-02-24          NaN\n",
            "3  Afghanistan 2021-02-25          NaN\n",
            "4  Afghanistan 2021-02-26          NaN\n"
          ]
        }
      ]
    },
    {
      "cell_type": "code",
      "source": [
        "# ============================================\n",
        "# h. Diferencia de tiempo entre registro más reciente y más antiguo\n",
        "# ============================================\n",
        "diferencia_tiempo = dataFrame['date'].max() - dataFrame['date'].min()\n",
        "print(\"Periodo de tiempo total:\", diferencia_tiempo)\n"
      ],
      "metadata": {
        "colab": {
          "base_uri": "https://localhost:8080/"
        },
        "id": "dXzg5emuBhKQ",
        "outputId": "820d9828-3623-4157-e396-378921efb966"
      },
      "execution_count": 8,
      "outputs": [
        {
          "output_type": "stream",
          "name": "stdout",
          "text": [
            "Periodo de tiempo total: 482 days 00:00:00\n"
          ]
        }
      ]
    },
    {
      "cell_type": "code",
      "source": [
        "# ============================================\n",
        "# i. DataFrame conCantidad (cantidad de vacunas usadas por día)\n",
        "# ============================================\n",
        "conCantidad = dataFrame.copy()\n",
        "conCantidad['canVac'] = conCantidad['vaccines'].str.split(',').apply(len)\n",
        "print(conCantidad[['country', 'date', 'vaccines', 'canVac']].head())"
      ],
      "metadata": {
        "colab": {
          "base_uri": "https://localhost:8080/"
        },
        "id": "tOcyUkGlBjWo",
        "outputId": "4b23a53a-8b16-4622-d91f-292c1a431a94"
      },
      "execution_count": 9,
      "outputs": [
        {
          "output_type": "stream",
          "name": "stdout",
          "text": [
            "       country       date                                           vaccines  \\\n",
            "0  Afghanistan 2021-02-22  Johnson&Johnson, Oxford/AstraZeneca, Pfizer/Bi...   \n",
            "1  Afghanistan 2021-02-23  Johnson&Johnson, Oxford/AstraZeneca, Pfizer/Bi...   \n",
            "2  Afghanistan 2021-02-24  Johnson&Johnson, Oxford/AstraZeneca, Pfizer/Bi...   \n",
            "3  Afghanistan 2021-02-25  Johnson&Johnson, Oxford/AstraZeneca, Pfizer/Bi...   \n",
            "4  Afghanistan 2021-02-26  Johnson&Johnson, Oxford/AstraZeneca, Pfizer/Bi...   \n",
            "\n",
            "   canVac  \n",
            "0       4  \n",
            "1       4  \n",
            "2       4  \n",
            "3       4  \n",
            "4       4  \n"
          ]
        }
      ]
    },
    {
      "cell_type": "code",
      "source": [
        "# ============================================\n",
        "# j. DataFrame antes20 (registros antes del 20 de diciembre de 2020)\n",
        "# ============================================\n",
        "antes20 = dataFrame[dataFrame['date'] < '2020-12-20']\n",
        "print(antes20.head())"
      ],
      "metadata": {
        "colab": {
          "base_uri": "https://localhost:8080/"
        },
        "id": "uP3ggW9KBoEt",
        "outputId": "800a67e6-1171-468f-91fd-a6659eb29246"
      },
      "execution_count": 10,
      "outputs": [
        {
          "output_type": "stream",
          "name": "stdout",
          "text": [
            "      country iso_code       date  total_vaccinations  people_vaccinated  \\\n",
            "13403  Canada      CAN 2020-12-14                 5.0                5.0   \n",
            "13404  Canada      CAN 2020-12-15               727.0              727.0   \n",
            "13405  Canada      CAN 2020-12-16              3025.0             3025.0   \n",
            "13406  Canada      CAN 2020-12-17              7279.0             7279.0   \n",
            "13407  Canada      CAN 2020-12-18             11296.0            11296.0   \n",
            "\n",
            "       people_fully_vaccinated  daily_vaccinations_raw  daily_vaccinations  \\\n",
            "13403                      NaN                     NaN                 NaN   \n",
            "13404                      NaN                   722.0               722.0   \n",
            "13405                      NaN                  2298.0              1510.0   \n",
            "13406                      NaN                  4254.0              2425.0   \n",
            "13407                      NaN                  4017.0              2823.0   \n",
            "\n",
            "       total_vaccinations_per_hundred  people_vaccinated_per_hundred  \\\n",
            "13403                            0.00                           0.00   \n",
            "13404                            0.00                           0.00   \n",
            "13405                            0.01                           0.01   \n",
            "13406                            0.02                           0.02   \n",
            "13407                            0.03                           0.03   \n",
            "\n",
            "       people_fully_vaccinated_per_hundred  daily_vaccinations_per_million  \\\n",
            "13403                                  NaN                             NaN   \n",
            "13404                                  NaN                            19.0   \n",
            "13405                                  NaN                            40.0   \n",
            "13406                                  NaN                            64.0   \n",
            "13407                                  NaN                            74.0   \n",
            "\n",
            "                                                vaccines  \\\n",
            "13403  Johnson&Johnson, Moderna, Oxford/AstraZeneca, ...   \n",
            "13404  Johnson&Johnson, Moderna, Oxford/AstraZeneca, ...   \n",
            "13405  Johnson&Johnson, Moderna, Oxford/AstraZeneca, ...   \n",
            "13406  Johnson&Johnson, Moderna, Oxford/AstraZeneca, ...   \n",
            "13407  Johnson&Johnson, Moderna, Oxford/AstraZeneca, ...   \n",
            "\n",
            "                                             source_name  \\\n",
            "13403  Official data from provinces via covid19tracke...   \n",
            "13404  Official data from provinces via covid19tracke...   \n",
            "13405  Official data from provinces via covid19tracke...   \n",
            "13406  Official data from provinces via covid19tracke...   \n",
            "13407  Official data from provinces via covid19tracke...   \n",
            "\n",
            "                                          source_website  \n",
            "13403  https://covid19tracker.ca/vaccinationtracker.html  \n",
            "13404  https://covid19tracker.ca/vaccinationtracker.html  \n",
            "13405  https://covid19tracker.ca/vaccinationtracker.html  \n",
            "13406  https://covid19tracker.ca/vaccinationtracker.html  \n",
            "13407  https://covid19tracker.ca/vaccinationtracker.html  \n"
          ]
        }
      ]
    },
    {
      "cell_type": "code",
      "source": [
        "# ============================================\n",
        "# k. DataFrame pfizer (solo registros con vacuna Pfizer)\n",
        "# ============================================\n",
        "pfizer = dataFrame[dataFrame['vaccines'].str.contains('Pfizer', case=False, na=False)]\n",
        "print(pfizer.head())"
      ],
      "metadata": {
        "colab": {
          "base_uri": "https://localhost:8080/"
        },
        "id": "lha6iK4NBp-J",
        "outputId": "cf30c11b-b267-4487-8de6-394a1394041a"
      },
      "execution_count": 11,
      "outputs": [
        {
          "output_type": "stream",
          "name": "stdout",
          "text": [
            "       country iso_code       date  total_vaccinations  people_vaccinated  \\\n",
            "0  Afghanistan      AFG 2021-02-22                 0.0                0.0   \n",
            "1  Afghanistan      AFG 2021-02-23                 NaN                NaN   \n",
            "2  Afghanistan      AFG 2021-02-24                 NaN                NaN   \n",
            "3  Afghanistan      AFG 2021-02-25                 NaN                NaN   \n",
            "4  Afghanistan      AFG 2021-02-26                 NaN                NaN   \n",
            "\n",
            "   people_fully_vaccinated  daily_vaccinations_raw  daily_vaccinations  \\\n",
            "0                      NaN                     NaN                 NaN   \n",
            "1                      NaN                     NaN              1367.0   \n",
            "2                      NaN                     NaN              1367.0   \n",
            "3                      NaN                     NaN              1367.0   \n",
            "4                      NaN                     NaN              1367.0   \n",
            "\n",
            "   total_vaccinations_per_hundred  people_vaccinated_per_hundred  \\\n",
            "0                             0.0                            0.0   \n",
            "1                             NaN                            NaN   \n",
            "2                             NaN                            NaN   \n",
            "3                             NaN                            NaN   \n",
            "4                             NaN                            NaN   \n",
            "\n",
            "   people_fully_vaccinated_per_hundred  daily_vaccinations_per_million  \\\n",
            "0                                  NaN                             NaN   \n",
            "1                                  NaN                            34.0   \n",
            "2                                  NaN                            34.0   \n",
            "3                                  NaN                            34.0   \n",
            "4                                  NaN                            34.0   \n",
            "\n",
            "                                            vaccines  \\\n",
            "0  Johnson&Johnson, Oxford/AstraZeneca, Pfizer/Bi...   \n",
            "1  Johnson&Johnson, Oxford/AstraZeneca, Pfizer/Bi...   \n",
            "2  Johnson&Johnson, Oxford/AstraZeneca, Pfizer/Bi...   \n",
            "3  Johnson&Johnson, Oxford/AstraZeneca, Pfizer/Bi...   \n",
            "4  Johnson&Johnson, Oxford/AstraZeneca, Pfizer/Bi...   \n",
            "\n",
            "                 source_name            source_website  \n",
            "0  World Health Organization  https://covid19.who.int/  \n",
            "1  World Health Organization  https://covid19.who.int/  \n",
            "2  World Health Organization  https://covid19.who.int/  \n",
            "3  World Health Organization  https://covid19.who.int/  \n",
            "4  World Health Organization  https://covid19.who.int/  \n"
          ]
        }
      ]
    },
    {
      "cell_type": "code",
      "source": [
        "# ============================================\n",
        "# l. Guardar los DataFrames en un archivo Excel\n",
        "# ============================================\n",
        "with pd.ExcelWriter('/content/drive/MyDrive/reto4/resultadosReto.xlsx') as writer:\n",
        "    conDiferencias.to_excel(writer, sheet_name='conDiferencias', index=False)\n",
        "    conCantidad.to_excel(writer, sheet_name='conCantidad', index=False)\n",
        "    antes20.to_excel(writer, sheet_name='antes20', index=False)\n",
        "    pfizer.to_excel(writer, sheet_name='pfizer', index=False)\n",
        "\n",
        "print(\"Archivo 'resultadosReto.xlsx' generado correctamente.\")"
      ],
      "metadata": {
        "colab": {
          "base_uri": "https://localhost:8080/"
        },
        "id": "ooHZEY8BBslY",
        "outputId": "fbd93372-b9a5-4010-f5fa-30d1816d761a"
      },
      "execution_count": 13,
      "outputs": [
        {
          "output_type": "stream",
          "name": "stdout",
          "text": [
            "Archivo 'resultadosReto.xlsx' generado correctamente.\n"
          ]
        }
      ]
    }
  ]
}